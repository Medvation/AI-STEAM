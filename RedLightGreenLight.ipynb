{
 "cells": [
  {
   "cell_type": "markdown",
   "id": "b9b06006",
   "metadata": {},
   "source": [
    "![KW_G](https://github.com/user-attachments/assets/139ea1fa-722c-4f6a-ade0-eec90dadab4c)"
   ]
  },
  {
   "cell_type": "markdown",
   "id": "d04388ca",
   "metadata": {},
   "source": [
    "# Red Light Green Light Game\n",
    "This notebook explains and executes the Squid Game simulation step-by-step."
   ]
  },
  {
   "cell_type": "markdown",
   "id": "285667af",
   "metadata": {},
   "source": [
    "## Importing Required Libraries"
   ]
  },
  {
   "cell_type": "code",
   "execution_count": 1,
   "id": "1f6d076f",
   "metadata": {},
   "outputs": [],
   "source": [
    "\n",
    "import cv2\n",
    "import os\n",
    "import numpy as np\n",
    "import time\n",
    "from playsound import playsound\n",
    "    "
   ]
  },
  {
   "cell_type": "markdown",
   "id": "94bb0223",
   "metadata": {},
   "source": [
    "## Loading Images from the Directory"
   ]
  },
  {
   "cell_type": "code",
   "execution_count": 2,
   "id": "0ee8307a",
   "metadata": {},
   "outputs": [],
   "source": [
    "\n",
    "folderPath = 'frames'\n",
    "mylist = os.listdir(folderPath)\n",
    "graphic = [cv2.imread(f'{folderPath}/{imPath}') for imPath in mylist]\n",
    "green, red, kill, winner, intro = graphic[:5]\n",
    "    "
   ]
  },
  {
   "cell_type": "markdown",
   "id": "f91e439c",
   "metadata": {},
   "source": [
    "## Displaying Intro Screen"
   ]
  },
  {
   "cell_type": "code",
   "execution_count": 3,
   "id": "8751e79b",
   "metadata": {},
   "outputs": [],
   "source": [
    "\n",
    "cv2.imshow('Squid Game', cv2.resize(intro, (0, 0), fx=0.5, fy=0.5))\n",
    "cv2.waitKey(125)\n",
    "playsound('sounds/squidWin.mp3')\n",
    "    "
   ]
  },
  {
   "cell_type": "markdown",
   "id": "59d4aa17",
   "metadata": {},
   "source": [
    "## Main Loop Setup"
   ]
  },
  {
   "cell_type": "code",
   "execution_count": 4,
   "id": "198015f0",
   "metadata": {},
   "outputs": [],
   "source": [
    "\n",
    "TIMER_MAX = 10\n",
    "TIMER = TIMER_MAX\n",
    "maxMove = 6500000\n",
    "font = cv2.FONT_HERSHEY_SIMPLEX\n",
    "cap = cv2.VideoCapture(0)\n",
    "frameHeight = cap.get(cv2.CAP_PROP_FRAME_HEIGHT)\n",
    "frameWidth = cap.get(cv2.CAP_PROP_FRAME_WIDTH)\n",
    "win = False\n",
    "prev = time.time()\n",
    "prevDoll = prev\n",
    "showFrame = cv2.resize(green, (0, 0), fx=0.5, fy=0.5)\n",
    "isgreen = True"
   ]
  },
  {
   "cell_type": "markdown",
   "id": "153c2841",
   "metadata": {},
   "source": [
    "## Game Logic"
   ]
  },
  {
   "cell_type": "code",
   "execution_count": null,
   "id": "ff4bac15",
   "metadata": {},
   "outputs": [],
   "source": [
    "\n",
    "while cap.isOpened() and TIMER >=0:\n",
    "    #press 'w' to win  \n",
    "    '''  \n",
    "    if cv2.waitKey(10) & 0xFF == ord('w'):\n",
    "        win = Trueq\n",
    "        break\n",
    "    '''    \n",
    "    #press 'w' to win    \n",
    "    if isgreen and (cv2.waitKey(10) & 0xFF == ord('w')):\n",
    "        win = True\n",
    "        break\n",
    "\n",
    "    ret, frame = cap.read()\n",
    "\n",
    "    cv2.putText(showFrame, str(TIMER),\n",
    "                    (50, 50), font,\n",
    "                    1, (0, int(255*(TIMER)/TIMER_MAX), int(255*(TIMER_MAX-TIMER)/TIMER_MAX)),\n",
    "                    4, cv2.LINE_AA)\n",
    "\n",
    "    #cv2.waitKey(125)\n",
    "\n",
    "    # current time\n",
    "    cur = time.time()\n",
    "\n",
    "    # Update and keep track of Countdown\n",
    "    # if time elapsed is one second\n",
    "    # than decrease the counter\n",
    "    if cur-prev >= 1:\n",
    "        prev = cur\n",
    "        TIMER = TIMER-1\n",
    "        if cv2.waitKey(10) & 0xFF == ord('w'):\n",
    "            win = True\n",
    "            break\n",
    "\n",
    "        if isgreen:\n",
    "            showFrame = cv2.resize(red, (0, 0), fx = 0.5, fy = 0.5)\n",
    "            isgreen = False\n",
    "            ref = cv2.cvtColor(frame, cv2.COLOR_BGR2GRAY)\n",
    "            #ref = cv2.GaussianBlur(ref, (21, 21), 0)\n",
    "            \n",
    "        else:\n",
    "            showFrame = cv2.resize(green, (0, 0), fx = 0.5, fy = 0.5)\n",
    "            isgreen = True\n",
    "    if not isgreen:    \n",
    "        \n",
    "        gray = cv2.cvtColor(frame, cv2.COLOR_BGR2GRAY)\n",
    "        #gray = cv2.GaussianBlur(gray, (21, 21), 0)\n",
    "        frameDelta = cv2.absdiff(ref, gray)\n",
    "        thresh = cv2.threshold(frameDelta, 20, 255, cv2.THRESH_BINARY)[1]\n",
    "        change = np.sum(thresh)\n",
    "        #print(change)\n",
    "        if change>maxMove:\n",
    "            break\n",
    "    else:\n",
    "        if cv2.waitKey(10) & 0xFF == ord('w'):\n",
    "            win = True\n",
    "            break        \n",
    "\n",
    "    camShow = cv2.resize(frame, (0, 0), fx = 0.3, fy = 0.3)\n",
    "\n",
    "    camH, camW = camShow.shape[0],camShow.shape[1]\n",
    "    showFrame[0:camH,-camW:] =  camShow\n",
    "\n",
    "    cv2.imshow('Squid Game',showFrame)\n",
    "    if cv2.waitKey(10) & 0xFF == ord('q'):\n",
    "        break\n",
    "\n",
    "    #press 'w' to win    \n",
    "    if isgreen and (cv2.waitKey(10) & 0xFF == ord('w')):\n",
    "        win = True\n",
    "        break\n",
    "            \n",
    "cap.release() \n",
    "# Game Over - Player Loses           \n",
    "if not win:\n",
    "    for i in range(10):\n",
    "        cv2.imshow('Squid Game',cv2.resize(kill, (0, 0), fx = 0.5, fy = 0.5))\n",
    "    playsound('sounds\\kill.mp3')    \n",
    "    while True:\n",
    "        cv2.imshow('Squid Game',cv2.resize(kill, (0, 0), fx = 0.5, fy = 0.5) )\n",
    "        if cv2.waitKey(10) & 0xFF == ord('q'):\n",
    "            break   \n",
    "# Game Over - Player Wins    \n",
    "else:\n",
    "    \n",
    "    cv2.imshow('Squid Game',cv2.resize(winner, (0, 0), fx = 0.5, fy = 0.5))\n",
    "    cv2.waitKey(125)    \n",
    "    playsound('sounds\\win.mp3') \n",
    "    \n",
    "    while True:\n",
    "        cv2.imshow('Squid Game',cv2.resize(winner, (0, 0), fx = 0.5, fy = 0.5) )\n",
    "        #cv2.imshow('shit',cv2.resize(graphic[3], (0, 0), fx = 0.5, fy = 0.5))\n",
    "        if cv2.waitKey(10) & 0xFF == ord('q'):\n",
    "            break\n",
    "# Cleanup  \n",
    "cv2.destroyAllWindows()"
   ]
  }
 ],
 "metadata": {
  "kernelspec": {
   "display_name": ".venv",
   "language": "python",
   "name": "python3"
  },
  "language_info": {
   "codemirror_mode": {
    "name": "ipython",
    "version": 3
   },
   "file_extension": ".py",
   "mimetype": "text/x-python",
   "name": "python",
   "nbconvert_exporter": "python",
   "pygments_lexer": "ipython3",
   "version": "3.11.9"
  }
 },
 "nbformat": 4,
 "nbformat_minor": 5
}
