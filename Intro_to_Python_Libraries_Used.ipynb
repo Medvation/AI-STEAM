{
 "cells": [
  {
   "cell_type": "markdown",
   "id": "59b628f5",
   "metadata": {},
   "source": [
    "![KW_G](https://github.com/user-attachments/assets/139ea1fa-722c-4f6a-ade0-eec90dadab4c)"
   ]
  },
  {
   "cell_type": "markdown",
   "id": "66bf1b46",
   "metadata": {},
   "source": [
    "# Introduction to Python Libraries and Methods Used in the Game "
   ]
  },
  {
   "cell_type": "markdown",
   "id": "0ba2c2fe",
   "metadata": {},
   "source": [
    "\n",
    "### In this notebook, we will explore the libraries and methods used in the Squid Game simulation. \n",
    "Each section will include an explanation and a runnable example to help you understand the concepts step-by-step.\n"
   ]
  },
  {
   "cell_type": "markdown",
   "id": "0d29c443",
   "metadata": {},
   "source": [
    "## OpenCV (cv2) - Reading and Displaying an Image"
   ]
  },
  {
   "cell_type": "code",
   "execution_count": 4,
   "id": "33d96313",
   "metadata": {},
   "outputs": [
    {
     "name": "stdout",
     "output_type": "stream",
     "text": [
      "OpenCV Example: Displaying an image\n"
     ]
    }
   ],
   "source": [
    "\n",
    "import cv2  # OpenCV for image and video processing\n",
    "\n",
    "# Explanation:\n",
    "# OpenCV allows reading and displaying images using `cv2.imread` and `cv2.imshow`.\n",
    "# The `cv2.waitKey` function keeps the image display window open for a specified duration or until a key is pressed.\n",
    "\n",
    "print(\"OpenCV Example: Displaying an image\")\n",
    "image_path = f\"frames\\Alkhawarzmi.jpeg\"  # Replace with the path to an actual image file\n",
    "\n",
    "try:\n",
    "    image = cv2.imread(image_path)\n",
    "    if image is not None:\n",
    "        cv2.imshow(\"Example Image\", image)\n",
    "        cv2.waitKey(2000)  # Display the image for 2 seconds\n",
    "        cv2.destroyAllWindows()\n",
    "    else:\n",
    "        print(\"Image file not found. Please check the path.\")\n",
    "except Exception as e:\n",
    "    print(\"Error:\", e)"
   ]
  },
  {
   "cell_type": "markdown",
   "id": "8c592964",
   "metadata": {},
   "source": [
    "## OS Module - Listing Files in a Directory"
   ]
  },
  {
   "cell_type": "code",
   "execution_count": 14,
   "id": "b8ccee33",
   "metadata": {},
   "outputs": [
    {
     "name": "stdout",
     "output_type": "stream",
     "text": [
      "OS Example: Listing files in a directory\n",
      "Files in '.': ['.venv', 'BasicsOfPythonOpenCv.ipynb', 'frames', 'Intro_to_Python_Libraries_Used.ipynb', 'LICENSE', 'README.md', 'RedLightGreenLight.py', 'Red_Light_Green_Light_Workshop.pptx', 'requirements.txt', 'sounds']\n"
     ]
    }
   ],
   "source": [
    "\n",
    "import os  # OS module for handling directories and files\n",
    "\n",
    "# Explanation:\n",
    "# The `os` module helps interact with the file system.\n",
    "# `os.listdir` lists all files and directories in a specified folder.\n",
    "\n",
    "print(\"OS Example: Listing files in a directory\")\n",
    "directory_path = \".\"  # Current directory\n",
    "files = os.listdir(directory_path)\n",
    "print(f\"Files in '{directory_path}':\", files)\n"
   ]
  },
  {
   "cell_type": "markdown",
   "id": "59fe1c82",
   "metadata": {},
   "source": [
    "## NumPy - Array Operations"
   ]
  },
  {
   "cell_type": "code",
   "execution_count": 15,
   "id": "3b9aeb34",
   "metadata": {},
   "outputs": [
    {
     "name": "stdout",
     "output_type": "stream",
     "text": [
      "NumPy Example: Array operations\n",
      "Original Array: [1 2 3 4 5]\n",
      "Sum of Array Elements: 15\n"
     ]
    }
   ],
   "source": [
    "\n",
    "import numpy as np  # NumPy for efficient numerical and image processing\n",
    "\n",
    "# Explanation:\n",
    "# NumPy is used for handling numerical data efficiently.\n",
    "# Arrays are the core data structure in NumPy.\n",
    "\n",
    "print(\"NumPy Example: Array operations\")\n",
    "arr = np.array([1, 2, 3, 4, 5])  # Creating a NumPy array\n",
    "print(\"Original Array:\", arr)\n",
    "print(\"Sum of Array Elements:\", np.sum(arr))\n"
   ]
  },
  {
   "cell_type": "markdown",
   "id": "da71253e",
   "metadata": {},
   "source": [
    "## Time Module - Countdown Timer"
   ]
  },
  {
   "cell_type": "code",
   "execution_count": 16,
   "id": "a9560d0b",
   "metadata": {},
   "outputs": [
    {
     "name": "stdout",
     "output_type": "stream",
     "text": [
      "Time Example: Countdown Timer\n",
      "Countdown: 5\n",
      "Countdown: 4\n",
      "Countdown: 3\n",
      "Countdown: 2\n",
      "Countdown: 1\n",
      "Time's up!\n"
     ]
    }
   ],
   "source": [
    "\n",
    "import time  # Time module for tracking time intervals\n",
    "\n",
    "# Explanation:\n",
    "# The `time` module provides tools for managing delays and tracking time.\n",
    "# A countdown timer can be created using `time.sleep` for delays.\n",
    "\n",
    "print(\"Time Example: Countdown Timer\")\n",
    "for i in range(5, 0, -1):  # Countdown from 5\n",
    "    print(f\"Countdown: {i}\")\n",
    "    time.sleep(1)  # Wait for 1 second\n",
    "print(\"Time's up!\")\n"
   ]
  },
  {
   "cell_type": "markdown",
   "id": "6b795dda",
   "metadata": {},
   "source": [
    "## Playsound - Playing a Sound File"
   ]
  },
  {
   "cell_type": "code",
   "execution_count": 17,
   "id": "9671dc85",
   "metadata": {},
   "outputs": [
    {
     "name": "stdout",
     "output_type": "stream",
     "text": [
      "Playsound Example: Playing a sound\n",
      "Sound played successfully!\n"
     ]
    }
   ],
   "source": [
    "\n",
    "from playsound import playsound  # Playsound module for playing sound files\n",
    "\n",
    "# Explanation:\n",
    "# The `playsound` library is used to play audio files.\n",
    "# It requires the path to a valid sound file (e.g., .mp3 or .wav).\n",
    "\n",
    "print(\"Playsound Example: Playing a sound\")\n",
    "sound_path = \"sounds\\squidSong.mp3\"  # Replace with the path to a valid sound file\n",
    "try:\n",
    "    playsound(sound_path)\n",
    "    print(\"Sound played successfully!\")\n",
    "except Exception as e:\n",
    "    print(\"Error playing sound:\", e)\n"
   ]
  },
  {
   "cell_type": "markdown",
   "id": "71799f73",
   "metadata": {},
   "source": [
    "## OpenCV - Motion Detection Basics"
   ]
  },
  {
   "cell_type": "code",
   "execution_count": null,
   "id": "14bfb88f",
   "metadata": {},
   "outputs": [],
   "source": [
    "\n",
    "# OpenCV's `cv2.absdiff` computes the absolute difference between two images.\n",
    "# Used in motion detection to highlight changes between frames.\n",
    "\n",
    "print(\"OpenCV Motion Detection Example: Absolute Difference\")\n",
    "# Example requires two sample images\n",
    "image1_path = \"frames\\\\0.png\"  \n",
    "image2_path = \"frames\\\\1.png\"  \n",
    "\n",
    "try:\n",
    "    img1 = cv2.imread(image1_path, cv2.IMREAD_GRAYSCALE)\n",
    "    img2 = cv2.imread(image2_path, cv2.IMREAD_GRAYSCALE)\n",
    "    if img1 is not None and img2 is not None:\n",
    "        diff = cv2.absdiff(img1, img2)\n",
    "        \n",
    "        cv2.waitKey(2000)\n",
    "        cv2.destroyAllWindows()\n",
    "        cv2.imshow(\"Difference\", diff)\n",
    "    else:\n",
    "        print(\"One or both image files not found. Please check the paths.\")\n",
    "except Exception as e:\n",
    "    print(\"Error:\", e)\n"
   ]
  }
 ],
 "metadata": {
  "kernelspec": {
   "display_name": ".venv",
   "language": "python",
   "name": "python3"
  },
  "language_info": {
   "codemirror_mode": {
    "name": "ipython",
    "version": 3
   },
   "file_extension": ".py",
   "mimetype": "text/x-python",
   "name": "python",
   "nbconvert_exporter": "python",
   "pygments_lexer": "ipython3",
   "version": "3.11.9"
  }
 },
 "nbformat": 4,
 "nbformat_minor": 5
}
