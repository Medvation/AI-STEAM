{
 "cells": [
  {
   "cell_type": "markdown",
   "id": "b9b06006",
   "metadata": {},
   "source": [
    "![KW_G](https://github.com/user-attachments/assets/139ea1fa-722c-4f6a-ade0-eec90dadab4c)"
   ]
  },
  {
   "cell_type": "markdown",
   "id": "d04388ca",
   "metadata": {},
   "source": [
    "# Red Light Green Light Game\n",
    "This notebook explains and executes the Squid Game simulation step-by-step."
   ]
  },
  {
   "cell_type": "markdown",
   "id": "285667af",
   "metadata": {},
   "source": [
    "## Importing Required Libraries"
   ]
  },
  {
   "cell_type": "code",
   "execution_count": null,
   "id": "1f6d076f",
   "metadata": {},
   "outputs": [],
   "source": [
    "import time\n",
    "import threading\n",
    "import random\n",
    "from playsound import playsound\n",
    "import cv2\n",
    "import os"
   ]
  },
  {
   "cell_type": "markdown",
   "id": "94bb0223",
   "metadata": {},
   "source": [
    "## Loading Images and Sounds from the Directory"
   ]
  },
  {
   "cell_type": "code",
   "execution_count": null,
   "id": "0ee8307a",
   "metadata": {},
   "outputs": [],
   "source": [
    "FRAMES_DIR =  'frames'\n",
    "SOUNDS_DIR =  'sounds'\n",
    "\n",
    "# Load images and sounds\n",
    "images = [cv2.imread(os.path.join(FRAMES_DIR, img)) for img in sorted(os.listdir(FRAMES_DIR))]\n",
    "green, red, kill, winner, intro = images[:5]\n",
    "win_sound = os.path.join(SOUNDS_DIR, 'squidWin.mp3')\n",
    "kill_sound = os.path.join(SOUNDS_DIR, 'kill.mp3')\n",
    "green_sound = os.path.join(SOUNDS_DIR, 'RLGLsong.mp3')"
   ]
  },
  {
   "cell_type": "code",
   "execution_count": null,
   "id": "11992cf1",
   "metadata": {},
   "outputs": [],
   "source": [
    "# Variables\n",
    "GAME_DURATION = 10\n",
    "GAME_DURATION, RED_STATE_DURATION = 10, 1\n",
    "state, score, game_running = \"green\", 0, True\n",
    "font = cv2.FONT_HERSHEY_SIMPLEX\n",
    "\n",
    "# Green light music thread\n",
    "def green_music():\n",
    "    global state\n",
    "    while game_running:\n",
    "        if state == \"green\":\n",
    "            playsound(green_sound, block=False)  # Play green light music\n",
    "            time.sleep(random.randint(5, 10))  # Randomize green state duration\n",
    "            state = \"red\""
   ]
  },
  {
   "cell_type": "markdown",
   "id": "f91e439c",
   "metadata": {},
   "source": [
    "## Displaying Intro Screen"
   ]
  },
  {
   "cell_type": "code",
   "execution_count": null,
   "id": "8751e79b",
   "metadata": {},
   "outputs": [],
   "source": [
    "\n",
    "cv2.imshow('Squid Game', cv2.resize(intro, (0, 0), fx=0.5, fy=0.5))\n",
    "cv2.waitKey(3000)"
   ]
  },
  {
   "cell_type": "markdown",
   "id": "59d4aa17",
   "metadata": {},
   "source": [
    "## Main Loop Setup"
   ]
  },
  {
   "cell_type": "code",
   "execution_count": null,
   "id": "198015f0",
   "metadata": {},
   "outputs": [],
   "source": [
    "cap = cv2.VideoCapture(0)\n",
    "if not cap.isOpened():\n",
    "    raise IOError(\"Camera not accessible\")\n",
    "threading.Thread(target=green_music).start()\n",
    "\n",
    "end_time = time.time() + GAME_DURATION"
   ]
  },
  {
   "cell_type": "markdown",
   "id": "153c2841",
   "metadata": {},
   "source": [
    "## Game Logic"
   ]
  },
  {
   "cell_type": "code",
   "execution_count": null,
   "id": "ff4bac15",
   "metadata": {},
   "outputs": [],
   "source": [
    "\n",
    "while time.time() < end_time:\n",
    "    ret, frame = cap.read()\n",
    "    if not ret:\n",
    "        break\n",
    "\n",
    "    remaining_time = int(end_time - time.time())\n",
    "    frame = cv2.resize(green if state == \"green\" else red, (0, 0), fx=0.5, fy=0.5)\n",
    "\n",
    "    if state == \"red\":  # Red state: detect 'W' key press\n",
    "        start_time = time.time()\n",
    "        while time.time() - start_time < RED_STATE_DURATION:\n",
    "            cv2.imshow('Squid Game', frame)\n",
    "            if cv2.waitKey(1) & 0xFF == ord('w'):  # Kill if 'W' pressed during red\n",
    "                cv2.imshow('Squid Game', cv2.resize(kill, (0, 0), fx=0.5, fy=0.5))\n",
    "                cv2.waitKey(1000)  # Show kill frame for 1 second\n",
    "                playsound(kill_sound)\n",
    "                state = \"kill\"\n",
    "                break\n",
    "        if state != \"kill\":\n",
    "            state = \"green\"\n",
    "\n",
    "    elif state == \"green\":  # Green state: count 'W' key presses\n",
    "        if cv2.waitKey(10) & 0xFF == ord('w'):\n",
    "            score += 1\n",
    "\n",
    "    # Display timer and score\n",
    "    cv2.putText(frame, f\"Time: {remaining_time}s\", (20, 30), font, 1, (0, 255, 255), 2)\n",
    "    cv2.putText(frame, f\"Score: {score}\", (20, 70), font, 1, (0, 255, 255), 2)\n",
    "    cv2.imshow('Squid Game', frame)\n",
    "\n",
    "    if cv2.waitKey(10) & 0xFF == ord('q'):  # Quit on 'Q' key press\n",
    "        state = \"kill\"\n",
    "        break\n",
    "\n",
    "# Cleanup\n",
    "game_running = False\n",
    "cap.release()\n",
    "cv2.destroyAllWindows()\n",
    "\n",
    "# Game result\n",
    "if state == \"kill\":  # Show kill frame before exiting\n",
    "    cv2.imshow('Squid Game', cv2.resize(kill, (0, 0), fx=0.5, fy=0.5))\n",
    "    cv2.waitKey(2000)  # Display kill frame for 2 seconds\n",
    "    playsound(kill_sound)\n",
    "else:  # Display win or lose screen based on score\n",
    "    result = winner if score > 15 else kill\n",
    "    cv2.imshow('Squid Game', cv2.resize(result, (0, 0), fx=0.5, fy=0.5))\n",
    "    playsound(win_sound if score > 15 else kill_sound)\n",
    "    cv2.waitKey(5000)\n",
    "\n",
    "print(f\"Game Over! Your Score: {score}\")\n"
   ]
  }
 ],
 "metadata": {
  "kernelspec": {
   "display_name": ".venv",
   "language": "python",
   "name": "python3"
  },
  "language_info": {
   "codemirror_mode": {
    "name": "ipython",
    "version": 3
   },
   "file_extension": ".py",
   "mimetype": "text/x-python",
   "name": "python",
   "nbconvert_exporter": "python",
   "pygments_lexer": "ipython3",
   "version": "3.11.9"
  }
 },
 "nbformat": 4,
 "nbformat_minor": 5
}
